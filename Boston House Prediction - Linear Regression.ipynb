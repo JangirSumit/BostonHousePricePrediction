{
 "cells": [
  {
   "cell_type": "markdown",
   "metadata": {},
   "source": [
    "# Import all Important Packages"
   ]
  },
  {
   "cell_type": "code",
   "execution_count": 25,
   "metadata": {},
   "outputs": [],
   "source": [
    "from sklearn.linear_model import LinearRegression\n",
    "from sklearn.model_selection import train_test_split\n",
    "import pandas as pd\n",
    "import matplotlib.pyplot as plt\n",
    "import seaborn as sns"
   ]
  },
  {
   "cell_type": "markdown",
   "metadata": {},
   "source": [
    "# Step 1 - Data collection"
   ]
  },
  {
   "cell_type": "code",
   "execution_count": 26,
   "metadata": {},
   "outputs": [
    {
     "data": {
      "text/html": [
       "<div>\n",
       "<style scoped>\n",
       "    .dataframe tbody tr th:only-of-type {\n",
       "        vertical-align: middle;\n",
       "    }\n",
       "\n",
       "    .dataframe tbody tr th {\n",
       "        vertical-align: top;\n",
       "    }\n",
       "\n",
       "    .dataframe thead th {\n",
       "        text-align: right;\n",
       "    }\n",
       "</style>\n",
       "<table border=\"1\" class=\"dataframe\">\n",
       "  <thead>\n",
       "    <tr style=\"text-align: right;\">\n",
       "      <th></th>\n",
       "      <th>crim</th>\n",
       "      <th>zn</th>\n",
       "      <th>indus</th>\n",
       "      <th>chas</th>\n",
       "      <th>nox</th>\n",
       "      <th>rm</th>\n",
       "      <th>age</th>\n",
       "      <th>dis</th>\n",
       "      <th>rad</th>\n",
       "      <th>tax</th>\n",
       "      <th>ptratio</th>\n",
       "      <th>b</th>\n",
       "      <th>lstat</th>\n",
       "      <th>medv</th>\n",
       "    </tr>\n",
       "  </thead>\n",
       "  <tbody>\n",
       "    <tr>\n",
       "      <th>0</th>\n",
       "      <td>0.00632</td>\n",
       "      <td>18.0</td>\n",
       "      <td>2.31</td>\n",
       "      <td>0</td>\n",
       "      <td>0.538</td>\n",
       "      <td>6.575</td>\n",
       "      <td>65.2</td>\n",
       "      <td>4.0900</td>\n",
       "      <td>1</td>\n",
       "      <td>296</td>\n",
       "      <td>15.3</td>\n",
       "      <td>396.90</td>\n",
       "      <td>4.98</td>\n",
       "      <td>24.0</td>\n",
       "    </tr>\n",
       "    <tr>\n",
       "      <th>1</th>\n",
       "      <td>0.02731</td>\n",
       "      <td>0.0</td>\n",
       "      <td>7.07</td>\n",
       "      <td>0</td>\n",
       "      <td>0.469</td>\n",
       "      <td>6.421</td>\n",
       "      <td>78.9</td>\n",
       "      <td>4.9671</td>\n",
       "      <td>2</td>\n",
       "      <td>242</td>\n",
       "      <td>17.8</td>\n",
       "      <td>396.90</td>\n",
       "      <td>9.14</td>\n",
       "      <td>21.6</td>\n",
       "    </tr>\n",
       "    <tr>\n",
       "      <th>2</th>\n",
       "      <td>0.02729</td>\n",
       "      <td>0.0</td>\n",
       "      <td>7.07</td>\n",
       "      <td>0</td>\n",
       "      <td>0.469</td>\n",
       "      <td>7.185</td>\n",
       "      <td>61.1</td>\n",
       "      <td>4.9671</td>\n",
       "      <td>2</td>\n",
       "      <td>242</td>\n",
       "      <td>17.8</td>\n",
       "      <td>392.83</td>\n",
       "      <td>4.03</td>\n",
       "      <td>34.7</td>\n",
       "    </tr>\n",
       "    <tr>\n",
       "      <th>3</th>\n",
       "      <td>0.03237</td>\n",
       "      <td>0.0</td>\n",
       "      <td>2.18</td>\n",
       "      <td>0</td>\n",
       "      <td>0.458</td>\n",
       "      <td>6.998</td>\n",
       "      <td>45.8</td>\n",
       "      <td>6.0622</td>\n",
       "      <td>3</td>\n",
       "      <td>222</td>\n",
       "      <td>18.7</td>\n",
       "      <td>394.63</td>\n",
       "      <td>2.94</td>\n",
       "      <td>33.4</td>\n",
       "    </tr>\n",
       "    <tr>\n",
       "      <th>4</th>\n",
       "      <td>0.06905</td>\n",
       "      <td>0.0</td>\n",
       "      <td>2.18</td>\n",
       "      <td>0</td>\n",
       "      <td>0.458</td>\n",
       "      <td>7.147</td>\n",
       "      <td>54.2</td>\n",
       "      <td>6.0622</td>\n",
       "      <td>3</td>\n",
       "      <td>222</td>\n",
       "      <td>18.7</td>\n",
       "      <td>396.90</td>\n",
       "      <td>5.33</td>\n",
       "      <td>36.2</td>\n",
       "    </tr>\n",
       "  </tbody>\n",
       "</table>\n",
       "</div>"
      ],
      "text/plain": [
       "      crim    zn  indus  chas    nox     rm   age     dis  rad  tax  ptratio  \\\n",
       "0  0.00632  18.0   2.31     0  0.538  6.575  65.2  4.0900    1  296     15.3   \n",
       "1  0.02731   0.0   7.07     0  0.469  6.421  78.9  4.9671    2  242     17.8   \n",
       "2  0.02729   0.0   7.07     0  0.469  7.185  61.1  4.9671    2  242     17.8   \n",
       "3  0.03237   0.0   2.18     0  0.458  6.998  45.8  6.0622    3  222     18.7   \n",
       "4  0.06905   0.0   2.18     0  0.458  7.147  54.2  6.0622    3  222     18.7   \n",
       "\n",
       "        b  lstat  medv  \n",
       "0  396.90   4.98  24.0  \n",
       "1  396.90   9.14  21.6  \n",
       "2  392.83   4.03  34.7  \n",
       "3  394.63   2.94  33.4  \n",
       "4  396.90   5.33  36.2  "
      ]
     },
     "execution_count": 26,
     "metadata": {},
     "output_type": "execute_result"
    }
   ],
   "source": [
    "boston_data = pd.read_csv(\"./BostonHousing.csv\")\n",
    "\n",
    "# Check whether read_csv is successful or not\n",
    "# Check data format loaded through read_csv\n",
    "boston_data.head()"
   ]
  },
  {
   "cell_type": "markdown",
   "metadata": {},
   "source": [
    "# Step 2 - Data wrangling"
   ]
  },
  {
   "cell_type": "code",
   "execution_count": 27,
   "metadata": {},
   "outputs": [],
   "source": [
    "# Input or independent value\n",
    "X = boston_data.iloc[:, :13]\n",
    "\n",
    "# Output or dependent value\n",
    "Y = boston_data[\"medv\"]"
   ]
  },
  {
   "cell_type": "markdown",
   "metadata": {},
   "source": [
    "# Step 3 - Data Analysis"
   ]
  },
  {
   "cell_type": "code",
   "execution_count": 28,
   "metadata": {},
   "outputs": [
    {
     "data": {
      "image/png": "[encoded data removed]",
      "text/plain": [
       "<matplotlib.figure.Figure at 0x1dcff365e80>"
      ]
     },
     "metadata": {},
     "output_type": "display_data"
    }
   ],
   "source": [
    "# Find correlation between all available columns\n",
    "corr = boston_data.corr()\n",
    "# Find correlated data columns using heatmaps\n",
    "sns.heatmap(corr)\n",
    "plt.show()\n",
    "\n",
    "# Columns which are having correlation +ve and above 0.9 are highly correlated to each other\n",
    "# We can drop any of them since it will not impact on output\n",
    "\n",
    "#Right now I am not dropping any column and trying to predict the output with all input data"
   ]
  },
  {
   "cell_type": "markdown",
   "metadata": {},
   "source": [
    "# Step 4 - Splitting train test data"
   ]
  },
  {
   "cell_type": "code",
   "execution_count": 29,
   "metadata": {},
   "outputs": [],
   "source": [
    "x_train, x_test, y_train, y_test = train_test_split(X, Y, test_size=.30, random_state=10)"
   ]
  },
  {
   "cell_type": "markdown",
   "metadata": {},
   "source": [
    "# Step 5 - Model Instantiation and training the model"
   ]
  },
  {
   "cell_type": "code",
   "execution_count": 30,
   "metadata": {},
   "outputs": [
    {
     "data": {
      "text/plain": [
       "LinearRegression(copy_X=True, fit_intercept=True, n_jobs=1, normalize=False)"
      ]
     },
     "execution_count": 30,
     "metadata": {},
     "output_type": "execute_result"
    }
   ],
   "source": [
    "# model instantiation\n",
    "linear_model = LinearRegression()\n",
    "\n",
    "# fit the model with input and corresponding output data\n",
    "linear_model.fit(x_train, y_train)"
   ]
  },
  {
   "cell_type": "markdown",
   "metadata": {},
   "source": [
    "# Step 6 - Testing the model"
   ]
  },
  {
   "cell_type": "code",
   "execution_count": 31,
   "metadata": {},
   "outputs": [
    {
     "name": "stdout",
     "output_type": "stream",
     "text": [
      "Predicted House Prices\n",
      "[31.4243217  31.96785487 30.93785448 22.34313349 18.83846235 16.20617519\n",
      " 35.92908162 14.74157477 25.07700756 37.13230282 21.47652971 30.92661826\n",
      " 28.07823424 34.02599249 33.7778476  40.63701192 24.25899783 23.43019291\n",
      " 25.547906   21.34469147 32.65467539 17.80506124 25.46149722 25.0207691\n",
      " 32.51742137 20.51357936 19.47165255 16.87107974 38.44316206  0.3888111\n",
      " 32.39559257 32.15518102 26.05305015 23.82049084 20.56494632 19.66990981\n",
      "  3.53212643 35.21058387 27.03280773 27.67994129 34.36642896 29.82003002\n",
      " 18.31717228 31.55109654 17.93465111 28.4618882  19.39950216 21.60782793\n",
      " 38.10391926 16.45101411 24.51003632 19.57072199 24.53359986 34.34589029\n",
      " 26.74381857 34.86340026 21.02859444 19.77400901 18.68461884 24.64911818\n",
      " 19.89923131 23.52871967 39.56690084 42.81848202 30.38116596 16.96889789\n",
      " 23.83550068  3.18952008 31.52469303 28.66536677 18.40003941 27.1252398\n",
      " 19.56625808 25.28579071 25.04642543 10.30562974 38.97693514  8.17901104\n",
      " 18.51160158 30.32060192 22.85826904 20.98739809 20.03256896 28.70004491\n",
      " 30.83986409 28.22575374 26.26715448 31.56221764 22.16821072 -6.40058282\n",
      " 21.56768106 19.91022274 24.98025707 23.46247865 19.27692546 18.74766072\n",
      " 27.39474857 22.21870161 26.82617865 23.38366235 23.91947259 19.26003338\n",
      " 21.09721048 10.97767848 13.82483416 20.72378817 23.53977916 13.92807616\n",
      " 28.87070782 15.75931299 15.18847286 22.31904753 26.57865025 28.92895886\n",
      " 24.2980433  18.18585276 16.29471281 17.40018499 15.5361744  21.171008\n",
      " 33.71665888 30.02422884 21.13474092 13.93326869 16.19662736 29.30890971\n",
      " 13.1822158  22.06473155 24.33753588 31.89978763 33.44295992  5.90754764\n",
      " 35.2142013  24.1925307  17.45166483 24.25550318 28.41864261 34.52462088\n",
      "  6.2544935   2.12089952 28.40739835 12.49858357 18.22016397 19.69247114\n",
      "  5.52373677 14.45613717 37.18224665 25.78695839 23.32233462 26.36634945\n",
      " 11.47817153 20.44901468]\n"
     ]
    }
   ],
   "source": [
    "predicted_house_price = linear_model.predict(x_test)\n",
    "print(\"Predicted House Prices\")\n",
    "print(predicted_house_price)"
   ]
  },
  {
   "cell_type": "code",
   "execution_count": 32,
   "metadata": {},
   "outputs": [
    {
     "name": "stdout",
     "output_type": "stream",
     "text": [
      "Predicted and Actual Price Data frame\n",
      "     Actual_Prices  Predicted_Prices\n",
      "305           28.4         31.424322\n",
      "193           31.1         31.967855\n",
      "65            23.5         30.937854\n",
      "349           26.6         22.343133\n",
      "151           19.6         18.838462\n",
      "433           14.3         16.206175\n",
      "161           50.0         35.929082\n",
      "129           14.3         14.741575\n",
      "269           20.7         25.077008\n",
      "226           37.6         37.132303\n",
      "107           20.4         21.476530\n",
      "222           27.5         30.926618\n",
      "181           36.2         28.078234\n",
      "275           32.0         34.025992\n",
      "277           33.1         33.777848\n",
      "262           48.8         40.637012\n",
      "325           24.6         24.258998\n",
      "184           26.4         23.430193\n",
      "176           23.2         25.547906\n",
      "154           17.0         21.344691\n",
      "157           41.3         32.654675\n",
      "446           14.9         17.805061\n",
      "114           18.5         25.461497\n",
      "324           25.0         25.020769\n",
      "192           36.4         32.517421\n",
      "336           19.5         20.513579\n",
      "7             27.1         19.471653\n",
      "458           14.9         16.871080\n",
      "282           46.0         38.443162\n",
      "412           17.9          0.388811\n",
      "..             ...               ...\n",
      "493           21.8         21.134741\n",
      "142           13.4         13.933269\n",
      "26            16.6         16.196627\n",
      "173           23.6         29.308910\n",
      "428           11.0         13.182216\n",
      "167           23.8         22.064732\n",
      "318           23.1         24.337536\n",
      "99            33.2         31.899788\n",
      "307           28.2         33.442960\n",
      "404            8.5          5.907548\n",
      "274           32.4         35.214201\n",
      "252           29.6         24.192531\n",
      "441           17.1         17.451665\n",
      "70            24.2         24.255503\n",
      "302           26.4         28.418643\n",
      "276           33.2         34.524621\n",
      "386           10.5          6.254494\n",
      "418            8.8          2.120900\n",
      "80            28.0         28.407398\n",
      "440           10.5         12.498584\n",
      "443           15.4         18.220164\n",
      "152           15.3         19.692471\n",
      "417           10.4          5.523737\n",
      "126           15.7         14.456137\n",
      "261           43.1         37.182247\n",
      "56            24.7         25.786958\n",
      "37            21.0         23.322335\n",
      "66            19.4         26.366349\n",
      "427           10.9         11.478172\n",
      "12            21.7         20.449015\n",
      "\n",
      "[152 rows x 2 columns]\n"
     ]
    }
   ],
   "source": [
    "predicted_dataframe = pd.DataFrame(\n",
    "    {\"Predicted_Prices\": predicted_house_price, \"Actual_Prices\": y_test})\n",
    "print(\"Predicted and Actual Price Data frame\")\n",
    "print(predicted_dataframe)"
   ]
  },
  {
   "cell_type": "code",
   "execution_count": 33,
   "metadata": {},
   "outputs": [
    {
     "data": {
      "image/png": "[encoded data removed]",
      "text/plain": [
       "<matplotlib.figure.Figure at 0x1dcfdb09710>"
      ]
     },
     "metadata": {},
     "output_type": "display_data"
    }
   ],
   "source": [
    "plt.scatter(y_test, predicted_house_price, color='black')\n",
    "plt.show()"
   ]
  },
  {
   "cell_type": "code",
   "execution_count": null,
   "metadata": {},
   "outputs": [],
   "source": []
  }
 ],
 "metadata": {
  "kernelspec": {
   "display_name": "Python 3",
   "language": "python",
   "name": "python3"
  },
  "language_info": {
   "codemirror_mode": {
    "name": "ipython",
    "version": 3
   },
   "file_extension": ".py",
   "mimetype": "text/x-python",
   "name": "python",
   "nbconvert_exporter": "python",
   "pygments_lexer": "ipython3",
   "version": "3.6.4"
  }
 },
 "nbformat": 4,
 "nbformat_minor": 2
}
